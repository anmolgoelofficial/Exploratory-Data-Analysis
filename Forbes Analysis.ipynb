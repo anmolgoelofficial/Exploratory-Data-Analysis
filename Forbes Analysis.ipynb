{
 "cells": [
  {
   "cell_type": "code",
   "execution_count": 2,
   "id": "350291af",
   "metadata": {},
   "outputs": [],
   "source": [
    "import matplotlib.pyplot as plt\n",
    "import pandas as pd\n",
    "import numpy as np\n",
    "import seaborn as sns\n",
    "from bs4 import BeautifulSoup\n",
    "import requests"
   ]
  },
  {
   "cell_type": "code",
   "execution_count": 2,
   "id": "b10ade8f",
   "metadata": {},
   "outputs": [],
   "source": [
    "Forbes_df=pd.read_csv('2022_forbes_billionaires.csv',index_col=0)"
   ]
  },
  {
   "cell_type": "code",
   "execution_count": 3,
   "id": "b42a5f81",
   "metadata": {},
   "outputs": [
    {
     "data": {
      "text/html": [
       "<div>\n",
       "<style scoped>\n",
       "    .dataframe tbody tr th:only-of-type {\n",
       "        vertical-align: middle;\n",
       "    }\n",
       "\n",
       "    .dataframe tbody tr th {\n",
       "        vertical-align: top;\n",
       "    }\n",
       "\n",
       "    .dataframe thead th {\n",
       "        text-align: right;\n",
       "    }\n",
       "</style>\n",
       "<table border=\"1\" class=\"dataframe\">\n",
       "  <thead>\n",
       "    <tr style=\"text-align: right;\">\n",
       "      <th></th>\n",
       "      <th>rank</th>\n",
       "      <th>name</th>\n",
       "      <th>networth</th>\n",
       "      <th>age</th>\n",
       "      <th>country</th>\n",
       "      <th>source</th>\n",
       "      <th>industry</th>\n",
       "    </tr>\n",
       "  </thead>\n",
       "  <tbody>\n",
       "    <tr>\n",
       "      <th>0</th>\n",
       "      <td>1</td>\n",
       "      <td>Elon Musk</td>\n",
       "      <td>$219 B</td>\n",
       "      <td>50</td>\n",
       "      <td>United States</td>\n",
       "      <td>Tesla, SpaceX</td>\n",
       "      <td>Automotive</td>\n",
       "    </tr>\n",
       "    <tr>\n",
       "      <th>1</th>\n",
       "      <td>2</td>\n",
       "      <td>Jeff Bezos</td>\n",
       "      <td>$171 B</td>\n",
       "      <td>58</td>\n",
       "      <td>United States</td>\n",
       "      <td>Amazon</td>\n",
       "      <td>Technology</td>\n",
       "    </tr>\n",
       "    <tr>\n",
       "      <th>2</th>\n",
       "      <td>3</td>\n",
       "      <td>Bernard Arnault &amp; family</td>\n",
       "      <td>$158 B</td>\n",
       "      <td>73</td>\n",
       "      <td>France</td>\n",
       "      <td>LVMH</td>\n",
       "      <td>Fashion &amp; Retail</td>\n",
       "    </tr>\n",
       "    <tr>\n",
       "      <th>3</th>\n",
       "      <td>4</td>\n",
       "      <td>Bill Gates</td>\n",
       "      <td>$129 B</td>\n",
       "      <td>66</td>\n",
       "      <td>United States</td>\n",
       "      <td>Microsoft</td>\n",
       "      <td>Technology</td>\n",
       "    </tr>\n",
       "    <tr>\n",
       "      <th>4</th>\n",
       "      <td>5</td>\n",
       "      <td>Warren Buffett</td>\n",
       "      <td>$118 B</td>\n",
       "      <td>91</td>\n",
       "      <td>United States</td>\n",
       "      <td>Berkshire Hathaway</td>\n",
       "      <td>Finance &amp; Investments</td>\n",
       "    </tr>\n",
       "  </tbody>\n",
       "</table>\n",
       "</div>"
      ],
      "text/plain": [
       "   rank                       name networth  age        country  \\\n",
       "0     1                 Elon Musk    $219 B   50  United States   \n",
       "1     2                Jeff Bezos    $171 B   58  United States   \n",
       "2     3  Bernard Arnault & family    $158 B   73         France   \n",
       "3     4                Bill Gates    $129 B   66  United States   \n",
       "4     5            Warren Buffett    $118 B   91  United States   \n",
       "\n",
       "               source                industry  \n",
       "0       Tesla, SpaceX             Automotive   \n",
       "1              Amazon             Technology   \n",
       "2                LVMH       Fashion & Retail   \n",
       "3           Microsoft             Technology   \n",
       "4  Berkshire Hathaway  Finance & Investments   "
      ]
     },
     "execution_count": 3,
     "metadata": {},
     "output_type": "execute_result"
    }
   ],
   "source": [
    "Forbes_df.head()"
   ]
  },
  {
   "cell_type": "code",
   "execution_count": 4,
   "id": "054bc198",
   "metadata": {},
   "outputs": [
    {
     "data": {
      "text/html": [
       "<div>\n",
       "<style scoped>\n",
       "    .dataframe tbody tr th:only-of-type {\n",
       "        vertical-align: middle;\n",
       "    }\n",
       "\n",
       "    .dataframe tbody tr th {\n",
       "        vertical-align: top;\n",
       "    }\n",
       "\n",
       "    .dataframe thead th {\n",
       "        text-align: right;\n",
       "    }\n",
       "</style>\n",
       "<table border=\"1\" class=\"dataframe\">\n",
       "  <thead>\n",
       "    <tr style=\"text-align: right;\">\n",
       "      <th></th>\n",
       "      <th>rank</th>\n",
       "      <th>name</th>\n",
       "      <th>networth</th>\n",
       "      <th>age</th>\n",
       "      <th>country</th>\n",
       "      <th>source</th>\n",
       "      <th>industry</th>\n",
       "    </tr>\n",
       "  </thead>\n",
       "  <tbody>\n",
       "    <tr>\n",
       "      <th>2595</th>\n",
       "      <td>2578</td>\n",
       "      <td>Jorge Gallardo Ballart</td>\n",
       "      <td>$1 B</td>\n",
       "      <td>80</td>\n",
       "      <td>Spain</td>\n",
       "      <td>pharmaceuticals</td>\n",
       "      <td>Healthcare</td>\n",
       "    </tr>\n",
       "    <tr>\n",
       "      <th>2596</th>\n",
       "      <td>2578</td>\n",
       "      <td>Nari Genomal</td>\n",
       "      <td>$1 B</td>\n",
       "      <td>82</td>\n",
       "      <td>Philippines</td>\n",
       "      <td>apparel</td>\n",
       "      <td>Fashion &amp; Retail</td>\n",
       "    </tr>\n",
       "    <tr>\n",
       "      <th>2597</th>\n",
       "      <td>2578</td>\n",
       "      <td>Ramesh Genomal</td>\n",
       "      <td>$1 B</td>\n",
       "      <td>71</td>\n",
       "      <td>Philippines</td>\n",
       "      <td>apparel</td>\n",
       "      <td>Fashion &amp; Retail</td>\n",
       "    </tr>\n",
       "    <tr>\n",
       "      <th>2598</th>\n",
       "      <td>2578</td>\n",
       "      <td>Sunder Genomal</td>\n",
       "      <td>$1 B</td>\n",
       "      <td>68</td>\n",
       "      <td>Philippines</td>\n",
       "      <td>garments</td>\n",
       "      <td>Fashion &amp; Retail</td>\n",
       "    </tr>\n",
       "    <tr>\n",
       "      <th>2599</th>\n",
       "      <td>2578</td>\n",
       "      <td>Horst-Otto Gerberding</td>\n",
       "      <td>$1 B</td>\n",
       "      <td>69</td>\n",
       "      <td>Germany</td>\n",
       "      <td>flavors and fragrances</td>\n",
       "      <td>Food &amp; Beverage</td>\n",
       "    </tr>\n",
       "  </tbody>\n",
       "</table>\n",
       "</div>"
      ],
      "text/plain": [
       "      rank                     name networth  age      country  \\\n",
       "2595  2578  Jorge Gallardo Ballart      $1 B   80        Spain   \n",
       "2596  2578            Nari Genomal      $1 B   82  Philippines   \n",
       "2597  2578          Ramesh Genomal      $1 B   71  Philippines   \n",
       "2598  2578          Sunder Genomal      $1 B   68  Philippines   \n",
       "2599  2578   Horst-Otto Gerberding      $1 B   69      Germany   \n",
       "\n",
       "                      source           industry  \n",
       "2595         pharmaceuticals        Healthcare   \n",
       "2596                 apparel  Fashion & Retail   \n",
       "2597                 apparel  Fashion & Retail   \n",
       "2598                garments  Fashion & Retail   \n",
       "2599  flavors and fragrances   Food & Beverage   "
      ]
     },
     "execution_count": 4,
     "metadata": {},
     "output_type": "execute_result"
    }
   ],
   "source": [
    "Forbes_df.tail()"
   ]
  },
  {
   "cell_type": "code",
   "execution_count": 5,
   "id": "adaf96a2",
   "metadata": {},
   "outputs": [
    {
     "data": {
      "text/plain": [
       "rank                             343\n",
       "name        Carrie Perrodo & family \n",
       "networth                        $7 B\n",
       "age                               71\n",
       "country                       France\n",
       "source                           oil\n",
       "industry                     Energy \n",
       "Name: 345, dtype: object"
      ]
     },
     "execution_count": 5,
     "metadata": {},
     "output_type": "execute_result"
    }
   ],
   "source": [
    "Forbes_df.iloc[345]"
   ]
  },
  {
   "cell_type": "code",
   "execution_count": 6,
   "id": "935ea8c6",
   "metadata": {},
   "outputs": [
    {
     "data": {
      "text/html": [
       "<div>\n",
       "<style scoped>\n",
       "    .dataframe tbody tr th:only-of-type {\n",
       "        vertical-align: middle;\n",
       "    }\n",
       "\n",
       "    .dataframe tbody tr th {\n",
       "        vertical-align: top;\n",
       "    }\n",
       "\n",
       "    .dataframe thead th {\n",
       "        text-align: right;\n",
       "    }\n",
       "</style>\n",
       "<table border=\"1\" class=\"dataframe\">\n",
       "  <thead>\n",
       "    <tr style=\"text-align: right;\">\n",
       "      <th></th>\n",
       "      <th>rank</th>\n",
       "      <th>age</th>\n",
       "    </tr>\n",
       "  </thead>\n",
       "  <tbody>\n",
       "    <tr>\n",
       "      <th>count</th>\n",
       "      <td>2600.000000</td>\n",
       "      <td>2600.000000</td>\n",
       "    </tr>\n",
       "    <tr>\n",
       "      <th>mean</th>\n",
       "      <td>1269.570769</td>\n",
       "      <td>64.271923</td>\n",
       "    </tr>\n",
       "    <tr>\n",
       "      <th>std</th>\n",
       "      <td>728.146364</td>\n",
       "      <td>13.220607</td>\n",
       "    </tr>\n",
       "    <tr>\n",
       "      <th>min</th>\n",
       "      <td>1.000000</td>\n",
       "      <td>19.000000</td>\n",
       "    </tr>\n",
       "    <tr>\n",
       "      <th>25%</th>\n",
       "      <td>637.000000</td>\n",
       "      <td>55.000000</td>\n",
       "    </tr>\n",
       "    <tr>\n",
       "      <th>50%</th>\n",
       "      <td>1292.000000</td>\n",
       "      <td>64.000000</td>\n",
       "    </tr>\n",
       "    <tr>\n",
       "      <th>75%</th>\n",
       "      <td>1929.000000</td>\n",
       "      <td>74.000000</td>\n",
       "    </tr>\n",
       "    <tr>\n",
       "      <th>max</th>\n",
       "      <td>2578.000000</td>\n",
       "      <td>100.000000</td>\n",
       "    </tr>\n",
       "  </tbody>\n",
       "</table>\n",
       "</div>"
      ],
      "text/plain": [
       "              rank          age\n",
       "count  2600.000000  2600.000000\n",
       "mean   1269.570769    64.271923\n",
       "std     728.146364    13.220607\n",
       "min       1.000000    19.000000\n",
       "25%     637.000000    55.000000\n",
       "50%    1292.000000    64.000000\n",
       "75%    1929.000000    74.000000\n",
       "max    2578.000000   100.000000"
      ]
     },
     "execution_count": 6,
     "metadata": {},
     "output_type": "execute_result"
    }
   ],
   "source": [
    "Forbes_df.describe()"
   ]
  },
  {
   "cell_type": "code",
   "execution_count": 7,
   "id": "b0473ca1",
   "metadata": {},
   "outputs": [],
   "source": [
    "Forbes_df['networth']=Forbes_df['networth'].apply(lambda x:x.replace('$','')).apply(lambda x:x.replace('B','')).apply(lambda x:x.replace(' ','')).astype(np.float64)"
   ]
  },
  {
   "cell_type": "code",
   "execution_count": 8,
   "id": "a5e83f04",
   "metadata": {},
   "outputs": [],
   "source": [
    "Forbes_df=Forbes_df.rename(columns={'rank':'Rank','networth':'Networth($ Billion)','name':'Name','age':'Age','country':'Country','source':'Source','industry':'Industry'})"
   ]
  },
  {
   "cell_type": "code",
   "execution_count": 9,
   "id": "667e8d77",
   "metadata": {},
   "outputs": [
    {
     "data": {
      "text/plain": [
       "Rank                   0\n",
       "Name                   0\n",
       "Networth($ Billion)    0\n",
       "Age                    0\n",
       "Country                0\n",
       "Source                 0\n",
       "Industry               0\n",
       "dtype: int64"
      ]
     },
     "execution_count": 9,
     "metadata": {},
     "output_type": "execute_result"
    }
   ],
   "source": [
    "Forbes_df.isnull().sum()"
   ]
  },
  {
   "cell_type": "markdown",
   "id": "6dc0617c",
   "metadata": {},
   "source": [
    "Then we are good to go. First Analysis is Top 10 richest in the world"
   ]
  },
  {
   "cell_type": "code",
   "execution_count": 10,
   "id": "c145c8dc",
   "metadata": {},
   "outputs": [
    {
     "name": "stderr",
     "output_type": "stream",
     "text": [
      "<ipython-input-10-b22c1dfe738d>:6: UserWarning: FixedFormatter should only be used together with FixedLocator\n",
      "  ax.set_xticklabels(labels=Forbes_df['Name'][:11], rotation=90)\n"
     ]
    },
    {
     "data": {
      "image/png": "[encoded data removed]",
      "text/plain": [
       "<Figure size 432x288 with 1 Axes>"
      ]
     },
     "metadata": {
      "needs_background": "light"
     },
     "output_type": "display_data"
    }
   ],
   "source": [
    "fig,ax=plt.subplots()\n",
    "ax.bar(Forbes_df['Name'][:10],Forbes_df['Networth($ Billion)'][:10])\n",
    "[s.set_visible(False) for s in ax.spines.values()]\n",
    "ax.set_title('Top 10 Billonaires on Forbes')\n",
    "ax.set_ylabel('Networth $(Billions)')\n",
    "ax.set_xticklabels(labels=Forbes_df['Name'][:11], rotation=90)\n",
    "plt.grid(axis='y',linestyle='--',linewidth=0.3)\n",
    "plt.show()"
   ]
  },
  {
   "cell_type": "markdown",
   "id": "ba98d1f2",
   "metadata": {},
   "source": [
    "This shows the top 10 billonaires on Forbes. Coming up on Number 1 is Elon Musk that seem to be far ahead the number two which is Jeff Bezoz. "
   ]
  },
  {
   "cell_type": "markdown",
   "id": "326fccfb",
   "metadata": {},
   "source": [
    "Question number two is to show the country with the highest number of forbe lists"
   ]
  },
  {
   "cell_type": "code",
   "execution_count": 11,
   "id": "f95ae2b5",
   "metadata": {},
   "outputs": [
    {
     "data": {
      "text/plain": [
       "array(['United States', 'France', 'India', 'Mexico', 'China', 'Canada',\n",
       "       'Spain', 'Germany', 'Hong Kong', 'Italy', 'Australia', 'Austria',\n",
       "       'Japan', 'Indonesia', 'Switzerland', 'Chile', 'Russia',\n",
       "       'Singapore', 'Sweden', 'Czechia', 'United Kingdom', 'Brazil',\n",
       "       'Israel', 'Netherlands', 'Ireland', 'Nigeria', 'Denmark',\n",
       "       'Thailand', 'Cyprus', 'Malaysia', 'Taiwan', 'Monaco', 'Colombia',\n",
       "       'New Zealand', 'South Korea', 'Belgium', 'South Africa',\n",
       "       'Philippines', 'Egypt', 'Greece', 'Norway', 'Vietnam', 'Poland',\n",
       "       'Eswatini (Swaziland)', 'Peru', 'Algeria', 'Kazakhstan', 'Georgia',\n",
       "       'Portugal', 'Turkey', 'Finland', 'Ukraine', 'Argentina', 'Belize',\n",
       "       'Venezuela', 'Lebanon', 'Zimbabwe', 'Romania',\n",
       "       'United Arab Emirates', 'Oman', 'Iceland', 'Guernsey',\n",
       "       'Liechtenstein', 'Qatar', 'Morocco', 'Bulgaria', 'Macau',\n",
       "       'Slovakia', 'Barbados', 'Uruguay', 'Nepal', 'Tanzania',\n",
       "       'St. Kitts and Nevis', 'Hungary', 'Estonia'], dtype=object)"
      ]
     },
     "execution_count": 11,
     "metadata": {},
     "output_type": "execute_result"
    }
   ],
   "source": [
    "Forbes_df['Country'].unique()"
   ]
  },
  {
   "cell_type": "code",
   "execution_count": 12,
   "id": "6defb12f",
   "metadata": {},
   "outputs": [
    {
     "data": {
      "text/plain": [
       "75"
      ]
     },
     "execution_count": 12,
     "metadata": {},
     "output_type": "execute_result"
    }
   ],
   "source": [
    "len(Forbes_df['Country'].unique())"
   ]
  },
  {
   "cell_type": "code",
   "execution_count": 13,
   "id": "4add41ae",
   "metadata": {},
   "outputs": [
    {
     "data": {
      "text/plain": [
       "Country\n",
       "Algeria            1\n",
       "Argentina          6\n",
       "Australia         44\n",
       "Austria           11\n",
       "Barbados           1\n",
       "                ... \n",
       "United States    719\n",
       "Uruguay            2\n",
       "Venezuela          1\n",
       "Vietnam            7\n",
       "Zimbabwe           1\n",
       "Length: 75, dtype: int64"
      ]
     },
     "execution_count": 13,
     "metadata": {},
     "output_type": "execute_result"
    }
   ],
   "source": [
    "Forbes_df.groupby('Country').size()"
   ]
  },
  {
   "cell_type": "code",
   "execution_count": 14,
   "id": "5088b02d",
   "metadata": {},
   "outputs": [],
   "source": [
    "Country_counts=Forbes_df.groupby('Country').size()"
   ]
  },
  {
   "cell_type": "code",
   "execution_count": 15,
   "id": "e403c5b3",
   "metadata": {},
   "outputs": [],
   "source": [
    "Country_counts=Country_counts.to_frame()"
   ]
  },
  {
   "cell_type": "code",
   "execution_count": 16,
   "id": "23347ee9",
   "metadata": {},
   "outputs": [],
   "source": [
    "Country_counts=Country_counts.rename(columns={0:'Count'})"
   ]
  },
  {
   "cell_type": "code",
   "execution_count": 17,
   "id": "b2ec3e2a",
   "metadata": {},
   "outputs": [],
   "source": [
    "Country_counts=Country_counts.sort_values(by='Count',ascending=False)"
   ]
  },
  {
   "cell_type": "code",
   "execution_count": 18,
   "id": "fe531256",
   "metadata": {},
   "outputs": [
    {
     "data": {
      "text/html": [
       "<div>\n",
       "<style scoped>\n",
       "    .dataframe tbody tr th:only-of-type {\n",
       "        vertical-align: middle;\n",
       "    }\n",
       "\n",
       "    .dataframe tbody tr th {\n",
       "        vertical-align: top;\n",
       "    }\n",
       "\n",
       "    .dataframe thead th {\n",
       "        text-align: right;\n",
       "    }\n",
       "</style>\n",
       "<table border=\"1\" class=\"dataframe\">\n",
       "  <thead>\n",
       "    <tr style=\"text-align: right;\">\n",
       "      <th></th>\n",
       "      <th>Count</th>\n",
       "    </tr>\n",
       "    <tr>\n",
       "      <th>Country</th>\n",
       "      <th></th>\n",
       "    </tr>\n",
       "  </thead>\n",
       "  <tbody>\n",
       "    <tr>\n",
       "      <th>United States</th>\n",
       "      <td>719</td>\n",
       "    </tr>\n",
       "    <tr>\n",
       "      <th>China</th>\n",
       "      <td>515</td>\n",
       "    </tr>\n",
       "    <tr>\n",
       "      <th>India</th>\n",
       "      <td>161</td>\n",
       "    </tr>\n",
       "    <tr>\n",
       "      <th>Germany</th>\n",
       "      <td>130</td>\n",
       "    </tr>\n",
       "    <tr>\n",
       "      <th>Russia</th>\n",
       "      <td>81</td>\n",
       "    </tr>\n",
       "    <tr>\n",
       "      <th>...</th>\n",
       "      <td>...</td>\n",
       "    </tr>\n",
       "    <tr>\n",
       "      <th>Eswatini (Swaziland)</th>\n",
       "      <td>1</td>\n",
       "    </tr>\n",
       "    <tr>\n",
       "      <th>Estonia</th>\n",
       "      <td>1</td>\n",
       "    </tr>\n",
       "    <tr>\n",
       "      <th>Belize</th>\n",
       "      <td>1</td>\n",
       "    </tr>\n",
       "    <tr>\n",
       "      <th>Barbados</th>\n",
       "      <td>1</td>\n",
       "    </tr>\n",
       "    <tr>\n",
       "      <th>Zimbabwe</th>\n",
       "      <td>1</td>\n",
       "    </tr>\n",
       "  </tbody>\n",
       "</table>\n",
       "<p>75 rows × 1 columns</p>\n",
       "</div>"
      ],
      "text/plain": [
       "                      Count\n",
       "Country                    \n",
       "United States           719\n",
       "China                   515\n",
       "India                   161\n",
       "Germany                 130\n",
       "Russia                   81\n",
       "...                     ...\n",
       "Eswatini (Swaziland)      1\n",
       "Estonia                   1\n",
       "Belize                    1\n",
       "Barbados                  1\n",
       "Zimbabwe                  1\n",
       "\n",
       "[75 rows x 1 columns]"
      ]
     },
     "execution_count": 18,
     "metadata": {},
     "output_type": "execute_result"
    }
   ],
   "source": [
    "Country_counts"
   ]
  },
  {
   "cell_type": "code",
   "execution_count": 19,
   "id": "265575cf",
   "metadata": {},
   "outputs": [
    {
     "name": "stderr",
     "output_type": "stream",
     "text": [
      "<ipython-input-19-37c95f1a4da8>:6: UserWarning: FixedFormatter should only be used together with FixedLocator\n",
      "  ax2.set_xticklabels(labels=Country_counts.index, rotation=90)\n"
     ]
    },
    {
     "data": {
      "image/png": "[encoded data removed]",
      "text/plain": [
       "<Figure size 720x432 with 1 Axes>"
      ]
     },
     "metadata": {
      "needs_background": "light"
     },
     "output_type": "display_data"
    }
   ],
   "source": [
    "fig,ax2=plt.subplots(figsize=(10,6))\n",
    "ax2.bar(Country_counts.index[:10],Country_counts['Count'][:10])\n",
    "[s.set_visible(False) for s in ax2.spines.values()]\n",
    "ax2.set_title('Countries per count of Billonaire')\n",
    "ax2.set_ylabel('Number of Billonaires per country')\n",
    "ax2.set_xticklabels(labels=Country_counts.index, rotation=90)\n",
    "plt.grid(axis='y',linestyle='--',linewidth=0.3)\n",
    "plt.show()"
   ]
  },
  {
   "cell_type": "markdown",
   "id": "113b1f3f",
   "metadata": {},
   "source": [
    "Since the countries were as much as 25, I could decide to split the plots and plot them in 10s but different axes but that doesn't make any sense because from the plot, it is eviident that as from Hong Kong, the difference isn;t that wide anymore between country counts. this shows that on 2022 Forbes list, America has the highest number of people on it. Follow by China and then India. Germany Comes fouth and Russia %th. There are lots of Asian countries here but i'm not sure of Africa. This should prompt my next question which is how many africans are there?"
   ]
  },
  {
   "cell_type": "markdown",
   "id": "2c6082b1",
   "metadata": {},
   "source": [
    "The dataset does not have a column for Continent but I can create a list of all African countries and then create a function from it to check which countries meet up. Let's try."
   ]
  },
  {
   "cell_type": "code",
   "execution_count": 20,
   "id": "36babd68",
   "metadata": {},
   "outputs": [],
   "source": [
    "Africa=[ 'Algeria','Angola','Benin','Botswana','Burkina Faso','Burundi','Cameroon','Cape Verd','Central African Republic',\n",
    "        'Chad','Comoros','Congo-Brazzaville','Congo-Kinshasa',\"Côte d'Ivoire\",'Djibouti','Egypt','Equatorial Guinea','Eritrea',\n",
    "        'Ethiopia','Gabon','Gambia','Ghana','Guinea','Guinea-Bissau','Kenya','Lesotho','Liberia','Libya','Madagascar','Malaw',\n",
    "        'Mali','Mauritania','Mauritius','Mayotte','Morocco','Mozambique','Namibia','Niger', 'Nigeria','Reunion','Rwanda',\n",
    "        'Saint Helena','Sao Tome and Príncipe','Senegal','Seychelles','Sierra Leone','Somalia','South Africa','Sudan',\n",
    "        'Swaziland','Tanzania','Togo','Tunisia','Uganda','Western Sahara(SADR)','Zambia','Zimbabwe']"
   ]
  },
  {
   "cell_type": "code",
   "execution_count": 21,
   "id": "6ca919f2",
   "metadata": {},
   "outputs": [],
   "source": [
    "Country_in_list=[]\n",
    "for Country in Africa:\n",
    "    if Country in Country_counts.index:\n",
    "        Country_in_list.append(Country)"
   ]
  },
  {
   "cell_type": "code",
   "execution_count": 22,
   "id": "f1e42d75",
   "metadata": {},
   "outputs": [
    {
     "data": {
      "text/plain": [
       "['Algeria',\n",
       " 'Egypt',\n",
       " 'Morocco',\n",
       " 'Nigeria',\n",
       " 'South Africa',\n",
       " 'Tanzania',\n",
       " 'Zimbabwe']"
      ]
     },
     "execution_count": 22,
     "metadata": {},
     "output_type": "execute_result"
    }
   ],
   "source": [
    "Country_in_list"
   ]
  },
  {
   "cell_type": "markdown",
   "id": "c5662f42",
   "metadata": {},
   "source": [
    "Apparently, there are seven African countries present in the list. The country with the highest count would be:"
   ]
  },
  {
   "cell_type": "code",
   "execution_count": 23,
   "id": "68813dc7",
   "metadata": {},
   "outputs": [
    {
     "data": {
      "text/html": [
       "<div>\n",
       "<style scoped>\n",
       "    .dataframe tbody tr th:only-of-type {\n",
       "        vertical-align: middle;\n",
       "    }\n",
       "\n",
       "    .dataframe tbody tr th {\n",
       "        vertical-align: top;\n",
       "    }\n",
       "\n",
       "    .dataframe thead th {\n",
       "        text-align: right;\n",
       "    }\n",
       "</style>\n",
       "<table border=\"1\" class=\"dataframe\">\n",
       "  <thead>\n",
       "    <tr style=\"text-align: right;\">\n",
       "      <th></th>\n",
       "      <th>Count</th>\n",
       "    </tr>\n",
       "    <tr>\n",
       "      <th>Country</th>\n",
       "      <th></th>\n",
       "    </tr>\n",
       "  </thead>\n",
       "  <tbody>\n",
       "    <tr>\n",
       "      <th>Algeria</th>\n",
       "      <td>1</td>\n",
       "    </tr>\n",
       "    <tr>\n",
       "      <th>Egypt</th>\n",
       "      <td>6</td>\n",
       "    </tr>\n",
       "    <tr>\n",
       "      <th>Morocco</th>\n",
       "      <td>2</td>\n",
       "    </tr>\n",
       "    <tr>\n",
       "      <th>Nigeria</th>\n",
       "      <td>3</td>\n",
       "    </tr>\n",
       "    <tr>\n",
       "      <th>South Africa</th>\n",
       "      <td>5</td>\n",
       "    </tr>\n",
       "    <tr>\n",
       "      <th>Tanzania</th>\n",
       "      <td>1</td>\n",
       "    </tr>\n",
       "    <tr>\n",
       "      <th>Zimbabwe</th>\n",
       "      <td>1</td>\n",
       "    </tr>\n",
       "  </tbody>\n",
       "</table>\n",
       "</div>"
      ],
      "text/plain": [
       "              Count\n",
       "Country            \n",
       "Algeria           1\n",
       "Egypt             6\n",
       "Morocco           2\n",
       "Nigeria           3\n",
       "South Africa      5\n",
       "Tanzania          1\n",
       "Zimbabwe          1"
      ]
     },
     "execution_count": 23,
     "metadata": {},
     "output_type": "execute_result"
    }
   ],
   "source": [
    "Country_counts.loc[['Algeria',\n",
    " 'Egypt',\n",
    " 'Morocco',\n",
    " 'Nigeria',\n",
    " 'South Africa',\n",
    " 'Tanzania',\n",
    " 'Zimbabwe']]"
   ]
  },
  {
   "cell_type": "markdown",
   "id": "fa4cf49c",
   "metadata": {},
   "source": [
    "This shows Egypt has the highest number, follow by South Africa, follow by Nigeria and then Morroco. As a Nigerians, I'm interested in knowing the Nigerian so I might just dig a little deeper. "
   ]
  },
  {
   "cell_type": "code",
   "execution_count": 24,
   "id": "fa3164c5",
   "metadata": {},
   "outputs": [
    {
     "data": {
      "text/plain": [
       "[129, 323, 359]"
      ]
     },
     "execution_count": 24,
     "metadata": {},
     "output_type": "execute_result"
    }
   ],
   "source": [
    "Forbes_df['Country'][Forbes_df['Country']=='Nigeria'].index.tolist()\n"
   ]
  },
  {
   "cell_type": "code",
   "execution_count": 25,
   "id": "e1855d25",
   "metadata": {},
   "outputs": [],
   "source": [
    "Nigerian_Billonaires=Forbes_df.iloc[[129,323,359]]"
   ]
  },
  {
   "cell_type": "code",
   "execution_count": 26,
   "id": "f37eb261",
   "metadata": {},
   "outputs": [
    {
     "name": "stderr",
     "output_type": "stream",
     "text": [
      "<ipython-input-26-22d37a34164a>:6: UserWarning: FixedFormatter should only be used together with FixedLocator\n",
      "  ax3.set_xticklabels(labels=Nigerian_Billonaires['Name'])\n"
     ]
    },
    {
     "data": {
      "image/png": "[encoded data removed]",
      "text/plain": [
       "<Figure size 432x288 with 1 Axes>"
      ]
     },
     "metadata": {
      "needs_background": "light"
     },
     "output_type": "display_data"
    }
   ],
   "source": [
    "fig,ax3=plt.subplots()\n",
    "ax3.bar(Nigerian_Billonaires['Name'],Nigerian_Billonaires['Networth($ Billion)'],color='green')\n",
    "[s.set_visible(False) for s in ax3.spines.values()]\n",
    "ax3.set_title('Nigerian Billonaires')\n",
    "ax.set_ylabel('Networth $(Billions)')\n",
    "ax3.set_xticklabels(labels=Nigerian_Billonaires['Name'])\n",
    "plt.grid(axis='y',linestyle='--',linewidth=0.3)\n",
    "plt.show()"
   ]
  },
  {
   "cell_type": "markdown",
   "id": "c316280b",
   "metadata": {},
   "source": [
    "I thinks as a Nigerian the first two is expected but the last one, I don't know who he is. Also, point to note that this means dangote is richer than the Kardashians. "
   ]
  },
  {
   "cell_type": "markdown",
   "id": "a8271f5a",
   "metadata": {},
   "source": [
    "The next question is what industry generates the most billonaire in the world? okay, let's dig in"
   ]
  },
  {
   "cell_type": "code",
   "execution_count": 27,
   "id": "7ce5048c",
   "metadata": {},
   "outputs": [
    {
     "data": {
      "text/plain": [
       "array(['Automotive ', 'Technology ', 'Fashion & Retail ',\n",
       "       'Finance & Investments ', 'Diversified ', 'Media & Entertainment ',\n",
       "       'Telecom ', 'Food & Beverage ', 'Logistics ', 'Real Estate ',\n",
       "       'Metals & Mining ', 'Manufacturing ', 'Gambling & Casinos ',\n",
       "       'Healthcare ', 'Service ', 'Energy ',\n",
       "       'Construction & Engineering ', 'Sports '], dtype=object)"
      ]
     },
     "execution_count": 27,
     "metadata": {},
     "output_type": "execute_result"
    }
   ],
   "source": [
    "Forbes_df['Industry'].unique()"
   ]
  },
  {
   "cell_type": "code",
   "execution_count": 28,
   "id": "08b0120d",
   "metadata": {},
   "outputs": [],
   "source": [
    "Forbes_df['Industry']=Forbes_df['Industry'].apply(lambda x:x.replace(' ',''))"
   ]
  },
  {
   "cell_type": "code",
   "execution_count": 29,
   "id": "e9e9d7c4",
   "metadata": {},
   "outputs": [],
   "source": [
    "Industry_count=Forbes_df.groupby('Industry').size()"
   ]
  },
  {
   "cell_type": "code",
   "execution_count": 30,
   "id": "fe0988e1",
   "metadata": {},
   "outputs": [],
   "source": [
    "Industry_count=Industry_count.to_frame()\n",
    "Industry_count=Industry_count.rename(columns={0:'Count'})\n",
    "Industry_count=Industry_count.sort_values(by='Count',ascending=False)"
   ]
  },
  {
   "cell_type": "code",
   "execution_count": 31,
   "id": "ab788d66",
   "metadata": {},
   "outputs": [
    {
     "data": {
      "text/html": [
       "<div>\n",
       "<style scoped>\n",
       "    .dataframe tbody tr th:only-of-type {\n",
       "        vertical-align: middle;\n",
       "    }\n",
       "\n",
       "    .dataframe tbody tr th {\n",
       "        vertical-align: top;\n",
       "    }\n",
       "\n",
       "    .dataframe thead th {\n",
       "        text-align: right;\n",
       "    }\n",
       "</style>\n",
       "<table border=\"1\" class=\"dataframe\">\n",
       "  <thead>\n",
       "    <tr style=\"text-align: right;\">\n",
       "      <th></th>\n",
       "      <th>Count</th>\n",
       "    </tr>\n",
       "    <tr>\n",
       "      <th>Industry</th>\n",
       "      <th></th>\n",
       "    </tr>\n",
       "  </thead>\n",
       "  <tbody>\n",
       "    <tr>\n",
       "      <th>Finance&amp;Investments</th>\n",
       "      <td>386</td>\n",
       "    </tr>\n",
       "    <tr>\n",
       "      <th>Technology</th>\n",
       "      <td>329</td>\n",
       "    </tr>\n",
       "    <tr>\n",
       "      <th>Manufacturing</th>\n",
       "      <td>322</td>\n",
       "    </tr>\n",
       "    <tr>\n",
       "      <th>Fashion&amp;Retail</th>\n",
       "      <td>246</td>\n",
       "    </tr>\n",
       "    <tr>\n",
       "      <th>Healthcare</th>\n",
       "      <td>212</td>\n",
       "    </tr>\n",
       "    <tr>\n",
       "      <th>Food&amp;Beverage</th>\n",
       "      <td>201</td>\n",
       "    </tr>\n",
       "    <tr>\n",
       "      <th>RealEstate</th>\n",
       "      <td>189</td>\n",
       "    </tr>\n",
       "    <tr>\n",
       "      <th>Diversified</th>\n",
       "      <td>178</td>\n",
       "    </tr>\n",
       "    <tr>\n",
       "      <th>Media&amp;Entertainment</th>\n",
       "      <td>95</td>\n",
       "    </tr>\n",
       "    <tr>\n",
       "      <th>Energy</th>\n",
       "      <td>93</td>\n",
       "    </tr>\n",
       "    <tr>\n",
       "      <th>Automotive</th>\n",
       "      <td>69</td>\n",
       "    </tr>\n",
       "    <tr>\n",
       "      <th>Metals&amp;Mining</th>\n",
       "      <td>67</td>\n",
       "    </tr>\n",
       "    <tr>\n",
       "      <th>Service</th>\n",
       "      <td>51</td>\n",
       "    </tr>\n",
       "    <tr>\n",
       "      <th>Construction&amp;Engineering</th>\n",
       "      <td>43</td>\n",
       "    </tr>\n",
       "    <tr>\n",
       "      <th>Logistics</th>\n",
       "      <td>35</td>\n",
       "    </tr>\n",
       "    <tr>\n",
       "      <th>Telecom</th>\n",
       "      <td>35</td>\n",
       "    </tr>\n",
       "    <tr>\n",
       "      <th>Sports</th>\n",
       "      <td>26</td>\n",
       "    </tr>\n",
       "    <tr>\n",
       "      <th>Gambling&amp;Casinos</th>\n",
       "      <td>23</td>\n",
       "    </tr>\n",
       "  </tbody>\n",
       "</table>\n",
       "</div>"
      ],
      "text/plain": [
       "                          Count\n",
       "Industry                       \n",
       "Finance&Investments         386\n",
       "Technology                  329\n",
       "Manufacturing               322\n",
       "Fashion&Retail              246\n",
       "Healthcare                  212\n",
       "Food&Beverage               201\n",
       "RealEstate                  189\n",
       "Diversified                 178\n",
       "Media&Entertainment          95\n",
       "Energy                       93\n",
       "Automotive                   69\n",
       "Metals&Mining                67\n",
       "Service                      51\n",
       "Construction&Engineering     43\n",
       "Logistics                    35\n",
       "Telecom                      35\n",
       "Sports                       26\n",
       "Gambling&Casinos             23"
      ]
     },
     "execution_count": 31,
     "metadata": {},
     "output_type": "execute_result"
    }
   ],
   "source": [
    "Industry_count"
   ]
  },
  {
   "cell_type": "code",
   "execution_count": 32,
   "id": "132c7c1e",
   "metadata": {},
   "outputs": [
    {
     "data": {
      "image/png": "[encoded data removed]",
      "text/plain": [
       "<Figure size 432x288 with 1 Axes>"
      ]
     },
     "metadata": {
      "needs_background": "light"
     },
     "output_type": "display_data"
    }
   ],
   "source": [
    "fig,ax4=plt.subplots()\n",
    "[s.set_visible(False) for s in ax4.spines.values()]\n",
    "ax4.barh(Industry_count.index,Industry_count['Count'])\n",
    "ax4.set_title('Top Industries by Count of Billonaires')\n",
    "ax4.set_xlabel('Count of Billonaires')\n",
    "plt.grid(axis='y',linestyle='--',linewidth=0.3)\n",
    "plt.show()"
   ]
  },
  {
   "cell_type": "markdown",
   "id": "ba7168ba",
   "metadata": {},
   "source": [
    "well, that is that about that. Now, I'll check the relationship between money and age. "
   ]
  },
  {
   "cell_type": "code",
   "execution_count": 33,
   "id": "c5e4b145",
   "metadata": {},
   "outputs": [
    {
     "data": {
      "image/png": "[encoded data removed]",
      "text/plain": [
       "<Figure size 720x360 with 1 Axes>"
      ]
     },
     "metadata": {
      "needs_background": "light"
     },
     "output_type": "display_data"
    }
   ],
   "source": [
    "fig,ax5=plt.subplots(figsize=(10,5))\n",
    "ax5.scatter(Forbes_df['Age'],Forbes_df['Networth($ Billion)'],color='green')\n",
    "[s.set_visible(False) for s in ax5.spines.values()]\n",
    "ax5.set_title('Top Relationship between Money and Age')\n",
    "ax5.set_xlabel('Age')\n",
    "ax5.set_ylabel('Networth (billion$)')\n",
    "plt.grid(axis='y',linestyle='--',linewidth=0.3)\n",
    "plt.show()"
   ]
  },
  {
   "cell_type": "markdown",
   "id": "dfaeb345",
   "metadata": {},
   "source": [
    "This shows there is no relationship between age and money. "
   ]
  },
  {
   "cell_type": "code",
   "execution_count": 34,
   "id": "7560e799",
   "metadata": {},
   "outputs": [
    {
     "data": {
      "image/png": "[encoded data removed]",
      "text/plain": [
       "<Figure size 432x360 with 1 Axes>"
      ]
     },
     "metadata": {
      "needs_background": "light"
     },
     "output_type": "display_data"
    }
   ],
   "source": [
    "fig, ax6 = plt.subplots(figsize=(6,5))\n",
    "ax6.hist(Forbes_df['Age'])\n",
    "[s.set_visible(False) for s in ax6.spines.values()]\n",
    "ax6.set_title('Distribution of Age')\n",
    "ax6.set_xlabel('Age')\n",
    "plt.grid(axis='y',linestyle='--',linewidth=0.3)\n",
    "plt.show()"
   ]
  },
  {
   "cell_type": "code",
   "execution_count": 35,
   "id": "8024052a",
   "metadata": {},
   "outputs": [],
   "source": [
    "By_Age=Forbes_df.sort_values(by='Age',ascending=True)"
   ]
  },
  {
   "cell_type": "code",
   "execution_count": 36,
   "id": "e4b814f9",
   "metadata": {},
   "outputs": [
    {
     "data": {
      "text/html": [
       "<div>\n",
       "<style scoped>\n",
       "    .dataframe tbody tr th:only-of-type {\n",
       "        vertical-align: middle;\n",
       "    }\n",
       "\n",
       "    .dataframe tbody tr th {\n",
       "        vertical-align: top;\n",
       "    }\n",
       "\n",
       "    .dataframe thead th {\n",
       "        text-align: right;\n",
       "    }\n",
       "</style>\n",
       "<table border=\"1\" class=\"dataframe\">\n",
       "  <thead>\n",
       "    <tr style=\"text-align: right;\">\n",
       "      <th></th>\n",
       "      <th>Rank</th>\n",
       "      <th>Name</th>\n",
       "      <th>Networth($ Billion)</th>\n",
       "      <th>Age</th>\n",
       "      <th>Country</th>\n",
       "      <th>Source</th>\n",
       "      <th>Industry</th>\n",
       "    </tr>\n",
       "  </thead>\n",
       "  <tbody>\n",
       "    <tr>\n",
       "      <th>1311</th>\n",
       "      <td>1292</td>\n",
       "      <td>Kevin David Lehmann</td>\n",
       "      <td>2.4</td>\n",
       "      <td>19</td>\n",
       "      <td>Germany</td>\n",
       "      <td>drugstores</td>\n",
       "      <td>Fashion&amp;Retail</td>\n",
       "    </tr>\n",
       "    <tr>\n",
       "      <th>2062</th>\n",
       "      <td>1929</td>\n",
       "      <td>Wang Zelong</td>\n",
       "      <td>1.5</td>\n",
       "      <td>25</td>\n",
       "      <td>China</td>\n",
       "      <td>chemicals</td>\n",
       "      <td>Metals&amp;Mining</td>\n",
       "    </tr>\n",
       "    <tr>\n",
       "      <th>1975</th>\n",
       "      <td>1929</td>\n",
       "      <td>Pedro Franceschi</td>\n",
       "      <td>1.5</td>\n",
       "      <td>25</td>\n",
       "      <td>Brazil</td>\n",
       "      <td>fintech</td>\n",
       "      <td>Finance&amp;Investments</td>\n",
       "    </tr>\n",
       "    <tr>\n",
       "      <th>2190</th>\n",
       "      <td>2190</td>\n",
       "      <td>Alexandra Andresen</td>\n",
       "      <td>1.3</td>\n",
       "      <td>25</td>\n",
       "      <td>Norway</td>\n",
       "      <td>investments</td>\n",
       "      <td>Diversified</td>\n",
       "    </tr>\n",
       "    <tr>\n",
       "      <th>1961</th>\n",
       "      <td>1929</td>\n",
       "      <td>Henrique Dubugras</td>\n",
       "      <td>1.5</td>\n",
       "      <td>26</td>\n",
       "      <td>Brazil</td>\n",
       "      <td>fintech</td>\n",
       "      <td>Finance&amp;Investments</td>\n",
       "    </tr>\n",
       "    <tr>\n",
       "      <th>...</th>\n",
       "      <td>...</td>\n",
       "      <td>...</td>\n",
       "      <td>...</td>\n",
       "      <td>...</td>\n",
       "      <td>...</td>\n",
       "      <td>...</td>\n",
       "      <td>...</td>\n",
       "    </tr>\n",
       "    <tr>\n",
       "      <th>1939</th>\n",
       "      <td>1929</td>\n",
       "      <td>Ana Maria Brescia Cafferata</td>\n",
       "      <td>1.5</td>\n",
       "      <td>97</td>\n",
       "      <td>Peru</td>\n",
       "      <td>mining, banking</td>\n",
       "      <td>Diversified</td>\n",
       "    </tr>\n",
       "    <tr>\n",
       "      <th>1273</th>\n",
       "      <td>1238</td>\n",
       "      <td>Charles Munger</td>\n",
       "      <td>2.5</td>\n",
       "      <td>98</td>\n",
       "      <td>United States</td>\n",
       "      <td>Berkshire Hathaway</td>\n",
       "      <td>Finance&amp;Investments</td>\n",
       "    </tr>\n",
       "    <tr>\n",
       "      <th>1377</th>\n",
       "      <td>1341</td>\n",
       "      <td>David Murdock</td>\n",
       "      <td>2.3</td>\n",
       "      <td>98</td>\n",
       "      <td>United States</td>\n",
       "      <td>Dole, real estate</td>\n",
       "      <td>Food&amp;Beverage</td>\n",
       "    </tr>\n",
       "    <tr>\n",
       "      <th>162</th>\n",
       "      <td>163</td>\n",
       "      <td>Robert Kuok</td>\n",
       "      <td>11.7</td>\n",
       "      <td>98</td>\n",
       "      <td>Malaysia</td>\n",
       "      <td>palm oil, shipping, property</td>\n",
       "      <td>Diversified</td>\n",
       "    </tr>\n",
       "    <tr>\n",
       "      <th>1681</th>\n",
       "      <td>1645</td>\n",
       "      <td>George Joseph</td>\n",
       "      <td>1.8</td>\n",
       "      <td>100</td>\n",
       "      <td>United States</td>\n",
       "      <td>insurance</td>\n",
       "      <td>Finance&amp;Investments</td>\n",
       "    </tr>\n",
       "  </tbody>\n",
       "</table>\n",
       "<p>2600 rows × 7 columns</p>\n",
       "</div>"
      ],
      "text/plain": [
       "      Rank                          Name  Networth($ Billion)  Age  \\\n",
       "1311  1292          Kevin David Lehmann                   2.4   19   \n",
       "2062  1929                  Wang Zelong                   1.5   25   \n",
       "1975  1929             Pedro Franceschi                   1.5   25   \n",
       "2190  2190           Alexandra Andresen                   1.3   25   \n",
       "1961  1929            Henrique Dubugras                   1.5   26   \n",
       "...    ...                           ...                  ...  ...   \n",
       "1939  1929  Ana Maria Brescia Cafferata                   1.5   97   \n",
       "1273  1238               Charles Munger                   2.5   98   \n",
       "1377  1341                David Murdock                   2.3   98   \n",
       "162    163                  Robert Kuok                  11.7   98   \n",
       "1681  1645                George Joseph                   1.8  100   \n",
       "\n",
       "            Country                        Source             Industry  \n",
       "1311        Germany                    drugstores       Fashion&Retail  \n",
       "2062          China                     chemicals        Metals&Mining  \n",
       "1975         Brazil                       fintech  Finance&Investments  \n",
       "2190         Norway                   investments          Diversified  \n",
       "1961         Brazil                       fintech  Finance&Investments  \n",
       "...             ...                           ...                  ...  \n",
       "1939           Peru               mining, banking          Diversified  \n",
       "1273  United States            Berkshire Hathaway  Finance&Investments  \n",
       "1377  United States             Dole, real estate        Food&Beverage  \n",
       "162        Malaysia  palm oil, shipping, property          Diversified  \n",
       "1681  United States                     insurance  Finance&Investments  \n",
       "\n",
       "[2600 rows x 7 columns]"
      ]
     },
     "execution_count": 36,
     "metadata": {},
     "output_type": "execute_result"
    }
   ],
   "source": [
    "By_Age"
   ]
  },
  {
   "cell_type": "code",
   "execution_count": 37,
   "id": "00b36bc4",
   "metadata": {},
   "outputs": [
    {
     "name": "stderr",
     "output_type": "stream",
     "text": [
      "C:\\Users\\Alimi\\anaconda3\\desktop\\lib\\site-packages\\seaborn\\_decorators.py:36: FutureWarning: Pass the following variables as keyword args: x, y. From version 0.12, the only valid positional argument will be `data`, and passing other arguments without an explicit keyword will result in an error or misinterpretation.\n",
      "  warnings.warn(\n"
     ]
    },
    {
     "data": {
      "image/png": "[encoded data removed]",
      "text/plain": [
       "<Figure size 504x360 with 1 Axes>"
      ]
     },
     "metadata": {
      "needs_background": "light"
     },
     "output_type": "display_data"
    }
   ],
   "source": [
    "fig, ax6 = plt.subplots(figsize=(7,5))\n",
    "sns.barplot(By_Age['Name'][:10],By_Age['Age'][:10],hue=By_Age['Country'][:10],dodge=False)\n",
    "[s.set_visible(False) for s in ax6.spines.values()]\n",
    "ax6.set_title('Youngest billonaires on Forbes')\n",
    "ax6.set_ylabel('Age')\n",
    "ax6.set_xticklabels(labels=By_Age['Name'][:10],rotation=90)\n",
    "ax6.legend(fontsize=7,loc='upper left')\n",
    "plt.grid(axis='y',linestyle='--',linewidth=0.3)\n",
    "plt.show()"
   ]
  },
  {
   "cell_type": "code",
   "execution_count": 38,
   "id": "59cafa80",
   "metadata": {},
   "outputs": [
    {
     "data": {
      "text/html": [
       "<div>\n",
       "<style scoped>\n",
       "    .dataframe tbody tr th:only-of-type {\n",
       "        vertical-align: middle;\n",
       "    }\n",
       "\n",
       "    .dataframe tbody tr th {\n",
       "        vertical-align: top;\n",
       "    }\n",
       "\n",
       "    .dataframe thead th {\n",
       "        text-align: right;\n",
       "    }\n",
       "</style>\n",
       "<table border=\"1\" class=\"dataframe\">\n",
       "  <thead>\n",
       "    <tr style=\"text-align: right;\">\n",
       "      <th></th>\n",
       "      <th>Rank</th>\n",
       "      <th>Name</th>\n",
       "      <th>Networth($ Billion)</th>\n",
       "      <th>Age</th>\n",
       "      <th>Country</th>\n",
       "      <th>Source</th>\n",
       "      <th>Industry</th>\n",
       "    </tr>\n",
       "  </thead>\n",
       "  <tbody>\n",
       "  </tbody>\n",
       "</table>\n",
       "</div>"
      ],
      "text/plain": [
       "Empty DataFrame\n",
       "Columns: [Rank, Name, Networth($ Billion), Age, Country, Source, Industry]\n",
       "Index: []"
      ]
     },
     "execution_count": 38,
     "metadata": {},
     "output_type": "execute_result"
    }
   ],
   "source": [
    "Forbes_df.loc[Forbes_df['Name'].str.contains(\"beyonce&rihanna&kadarshian&Jayz&Ronaldo\", case=False)]"
   ]
  },
  {
   "cell_type": "code",
   "execution_count": 49,
   "id": "8d05b81d",
   "metadata": {},
   "outputs": [],
   "source": [
    "Forbes_dfa=Forbes_df.set_index(keys='Country')"
   ]
  },
  {
   "cell_type": "code",
   "execution_count": 57,
   "id": "55eae0e4",
   "metadata": {},
   "outputs": [],
   "source": [
    "Forbes_dfa=Forbes_dfa.loc[['Algeria',\n",
    " 'Egypt',\n",
    " 'Morocco',\n",
    " 'Nigeria',\n",
    " 'South Africa',\n",
    " 'Tanzania',\n",
    " 'Zimbabwe']]"
   ]
  },
  {
   "cell_type": "code",
   "execution_count": 59,
   "id": "4cff9bfc",
   "metadata": {},
   "outputs": [],
   "source": [
    "Forbes_dfa=Forbes_dfa.sort_values(by='Networth($ Billion)',ascending=False)"
   ]
  },
  {
   "cell_type": "code",
   "execution_count": 63,
   "id": "ee6789a7",
   "metadata": {},
   "outputs": [
    {
     "name": "stderr",
     "output_type": "stream",
     "text": [
      "C:\\Users\\Alimi\\anaconda3\\desktop\\lib\\site-packages\\seaborn\\_decorators.py:36: FutureWarning: Pass the following variables as keyword args: x, y. From version 0.12, the only valid positional argument will be `data`, and passing other arguments without an explicit keyword will result in an error or misinterpretation.\n",
      "  warnings.warn(\n"
     ]
    },
    {
     "data": {
      "image/png": "[encoded data removed]",
      "text/plain": [
       "<Figure size 504x360 with 1 Axes>"
      ]
     },
     "metadata": {
      "needs_background": "light"
     },
     "output_type": "display_data"
    }
   ],
   "source": [
    "fig, ax7 = plt.subplots(figsize=(7,5))\n",
    "sns.barplot(Forbes_dfa['Name'][:10],Forbes_dfa['Networth($ Billion)'][:10],hue=Forbes_dfa.index[:10],dodge=False)\n",
    "[s.set_visible(False) for s in ax7.spines.values()]\n",
    "ax7.set_title('Top 10 richest in Africa')\n",
    "ax7.set_ylabel('Networth($ Billion)')\n",
    "ax7.set_xticklabels(labels=Forbes_dfa['Name'][:10],rotation=90)\n",
    "ax7.legend(fontsize=7,loc='upper right')\n",
    "plt.grid(axis='y',linestyle='--',linewidth=0.3)\n",
    "plt.show()"
   ]
  }
 ],
 "metadata": {
  "kernelspec": {
   "display_name": "Python 3",
   "language": "python",
   "name": "python3"
  },
  "language_info": {
   "codemirror_mode": {
    "name": "ipython",
    "version": 3
   },
   "file_extension": ".py",
   "mimetype": "text/x-python",
   "name": "python",
   "nbconvert_exporter": "python",
   "pygments_lexer": "ipython3",
   "version": "3.8.8"
  }
 },
 "nbformat": 4,
 "nbformat_minor": 5
}
